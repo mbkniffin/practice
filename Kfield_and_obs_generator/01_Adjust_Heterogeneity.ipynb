{
 "cells": [
  {
   "cell_type": "code",
   "execution_count": 1,
   "metadata": {
    "collapsed": false
   },
   "outputs": [],
   "source": [
    "from __future__ import print_function # note --> this import forces one to use print() as in Python 3\n",
    "                                      # resulting in code that can run in Python 2 or Python 3\n",
    "from mpl_toolkits.axes_grid1 import make_axes_locatable\n",
    "import numpy as np\n",
    "import flopy as fp\n",
    "import pandas as pd\n",
    "import os\n",
    "from scipy.stats.mstats import gmean as sp_gmean\n",
    "import matplotlib.pyplot as plt\n",
    "%matplotlib inline"
   ]
  },
  {
   "cell_type": "markdown",
   "metadata": {},
   "source": [
    "## Read in the \"true\" k array"
   ]
  },
  {
   "cell_type": "code",
   "execution_count": 2,
   "metadata": {
    "collapsed": true
   },
   "outputs": [],
   "source": [
    "inK = np.loadtxt('k-true.dat')\n",
    "inK = np.log10(inK)"
   ]
  },
  {
   "cell_type": "code",
   "execution_count": 3,
   "metadata": {
    "collapsed": false
   },
   "outputs": [
    {
     "data": {
      "text/plain": [
       "-0.46187011088715513"
      ]
     },
     "execution_count": 3,
     "metadata": {},
     "output_type": "execute_result"
    }
   ],
   "source": [
    "# find the geometric mean about which to stretch\n",
    "inK_geomean = np.mean(inK)\n",
    "inK_geomean"
   ]
  },
  {
   "cell_type": "markdown",
   "metadata": {},
   "source": [
    "#### calculate stretching factors as deviations from the geometric mean on inK (the input K)"
   ]
  },
  {
   "cell_type": "code",
   "execution_count": 4,
   "metadata": {
    "collapsed": true
   },
   "outputs": [],
   "source": [
    "stretch_f = inK-inK_geomean"
   ]
  },
  {
   "cell_type": "markdown",
   "metadata": {},
   "source": [
    "## Read in the head observation locations"
   ]
  },
  {
   "cell_type": "code",
   "execution_count": 5,
   "metadata": {
    "collapsed": true
   },
   "outputs": [],
   "source": [
    "obslox = pd.read_csv('hob.dat', skiprows=3, delim_whitespace=True, header=None)\n",
    "r_obs = obslox[2]\n",
    "c_obs = obslox[3]\n",
    "name_obs = obslox[0]"
   ]
  },
  {
   "cell_type": "markdown",
   "metadata": {},
   "source": [
    "#### Get the locations of the cell centers"
   ]
  },
  {
   "cell_type": "code",
   "execution_count": 6,
   "metadata": {
    "collapsed": false
   },
   "outputs": [
    {
     "name": "stderr",
     "output_type": "stream",
     "text": [
      "C:\\Users\\kniffin\\AppData\\Local\\Continuum\\Anaconda\\lib\\site-packages\\flopy\\modflow\\mfdis.py:164: UserWarning: ModflowDis.sr is deprecated. use Modflow.sr\n",
      "  warnings.warn(\"ModflowDis.sr is deprecated. use Modflow.sr\")\n"
     ]
    }
   ],
   "source": [
    "inmod = fp.modflow.Modflow.load('Ex_forward_base.nam')\n",
    "xy=inmod.dis.get_node_coordinates()\n",
    "x_mod = xy[1]\n",
    "y_mod = xy[0]"
   ]
  },
  {
   "cell_type": "markdown",
   "metadata": {},
   "source": [
    "#### Now find the X and Y locations of the observations"
   ]
  },
  {
   "cell_type": "code",
   "execution_count": 7,
   "metadata": {
    "collapsed": false
   },
   "outputs": [],
   "source": [
    "x_obs = [x_mod[i-1] for i in c_obs]\n",
    "y_obs = [y_mod[i-1] for i in r_obs]"
   ]
  },
  {
   "cell_type": "markdown",
   "metadata": {},
   "source": [
    "### Set up HYDMOD data"
   ]
  },
  {
   "cell_type": "code",
   "execution_count": 8,
   "metadata": {
    "collapsed": false
   },
   "outputs": [],
   "source": [
    "NHYD = len(name_obs)\n",
    "IHYDUN = 424\n",
    "HYDNOH = -9999999\n",
    "PCKG = 'BAS'\n",
    "ARR = 'HD'\n",
    "hydinfo = []\n",
    "INTYP = 'C'\n",
    "for cob, cx, cy in zip(name_obs,x_obs,y_obs):\n",
    "    hydinfo.append([PCKG, ARR, INTYP, 1, cx, cy, cob])\n",
    "\n",
    "    "
   ]
  },
  {
   "cell_type": "markdown",
   "metadata": {},
   "source": [
    "### Let's set a few values by which to stretch the K fields"
   ]
  },
  {
   "cell_type": "code",
   "execution_count": 9,
   "metadata": {
    "collapsed": true
   },
   "outputs": [],
   "source": [
    "amping_values = [0.001,0.01,0.1,0.5,1,2,3]"
   ]
  },
  {
   "cell_type": "markdown",
   "metadata": {},
   "source": [
    "### Next we make a folder for each, create the reference model in there, and run to obtain observations"
   ]
  },
  {
   "cell_type": "code",
   "execution_count": 10,
   "metadata": {
    "collapsed": false
   },
   "outputs": [
    {
     "name": "stdout",
     "output_type": "stream",
     "text": [
      "\n",
      "changing model workspace...\n",
      "   TrueK_amped_by_0.001\n"
     ]
    },
    {
     "ename": "AttributeError",
     "evalue": "'NoneType' object has no attribute 'hk'",
     "output_type": "error",
     "traceback": [
      "\u001b[1;31m---------------------------------------------------------------------------\u001b[0m",
      "\u001b[1;31mAttributeError\u001b[0m                            Traceback (most recent call last)",
      "\u001b[1;32m<ipython-input-10-7c129fa1abfe>\u001b[0m in \u001b[0;36m<module>\u001b[1;34m()\u001b[0m\n\u001b[0;32m     13\u001b[0m     \u001b[1;31m# stretch the K field and assign it to the lpf package\u001b[0m\u001b[1;33m\u001b[0m\u001b[1;33m\u001b[0m\u001b[0m\n\u001b[0;32m     14\u001b[0m     \u001b[0mcurr_K\u001b[0m \u001b[1;33m=\u001b[0m \u001b[0minK_geomean\u001b[0m \u001b[1;33m+\u001b[0m \u001b[0mstretch_f\u001b[0m \u001b[1;33m*\u001b[0m \u001b[0mc_amp\u001b[0m\u001b[1;33m\u001b[0m\u001b[0m\n\u001b[1;32m---> 15\u001b[1;33m     \u001b[0mcmod\u001b[0m\u001b[1;33m.\u001b[0m\u001b[0mlpf\u001b[0m\u001b[1;33m.\u001b[0m\u001b[0mhk\u001b[0m\u001b[1;33m[\u001b[0m\u001b[1;36m0\u001b[0m\u001b[1;33m]\u001b[0m \u001b[1;33m=\u001b[0m \u001b[1;36m10\u001b[0m\u001b[1;33m**\u001b[0m\u001b[0mcurr_K\u001b[0m\u001b[1;33m\u001b[0m\u001b[0m\n\u001b[0m\u001b[0;32m     16\u001b[0m \u001b[1;33m\u001b[0m\u001b[0m\n\u001b[0;32m     17\u001b[0m     \u001b[1;31m# make and save a quick plot of the new field as well\u001b[0m\u001b[1;33m\u001b[0m\u001b[1;33m\u001b[0m\u001b[0m\n",
      "\u001b[1;31mAttributeError\u001b[0m: 'NoneType' object has no attribute 'hk'"
     ]
    }
   ],
   "source": [
    "for c_amp in amping_values:\n",
    "    # read in the base model\n",
    "    cmod = fp.modflow.Modflow.load('Ex_forward_base.nam')\n",
    "    # change the namefile and working directory - if the working directory doesn't exists, make it\n",
    "    cmod.name = 'TrueK_amped_by_{0}'.format(c_amp)\n",
    "    cmod.exe_name = 'mf2005'\n",
    "    c_ws = 'TrueK_amped_by_{0}'.format(c_amp)\n",
    "    if not os.path.exists(c_ws):\n",
    "        os.mkdir(c_ws)\n",
    "    cmod.model_ws = c_ws\n",
    "    \n",
    "    \n",
    "    # stretch the K field and assign it to the lpf package\n",
    "    curr_K = inK_geomean + stretch_f * c_amp\n",
    "    cmod.lpf.hk[0] = 10**curr_K\n",
    "    \n",
    "    # make and save a quick plot of the new field as well\n",
    "    plt.figure(figsize=(8,6))\n",
    "    ax=plt.subplot(121)\n",
    "    im=plt.imshow(curr_K, cmap='viridis', interpolation='nearest')\n",
    "    plt.title('log10 K')\n",
    "    divider = make_axes_locatable(ax)\n",
    "    cax = divider.append_axes(\"right\", size=\"5%\", pad=0.05)\n",
    "\n",
    "    plt.colorbar(im, cax=cax)\n",
    "\n",
    "    ax=plt.subplot(122)\n",
    "    im=plt.imshow(10**curr_K, cmap='viridis', interpolation='nearest')\n",
    "    plt.title('K')\n",
    "    divider = make_axes_locatable(ax)\n",
    "    cax = divider.append_axes(\"right\", size=\"5%\", pad=0.05)\n",
    "    plt.colorbar(im, cax=cax)\n",
    "    \n",
    "    plt.savefig(os.path.join(c_ws,'k_field{0}.pdf'.format(c_ws)))\n",
    "    plt.close('all')\n",
    "    \n",
    "    # add the HYDMOD information\n",
    "    hyd = fp.modflow.ModflowHyd(cmod, nhyd=NHYD, ihydun=IHYDUN, hydnoh=HYDNOH, obsdata=hydinfo)\n",
    "\n",
    "    # fiddle with the PCG settings a bit to handle the really heterogeneous cases\n",
    "    cmod.pcg.hclose = 1e-4\n",
    "    cmod.pcg.relax = 0.7\n",
    "    cmod.pcg.damp = 0.5\n",
    "    cmod.pcg.mxiter = int(5e4)\n",
    "    # now run the model\n",
    "    cmod.write_input()\n",
    "    cmod.run_model()"
   ]
  },
  {
   "cell_type": "markdown",
   "metadata": {},
   "source": [
    "### Now we read in the HYDMOD Head Data and corrupt and save it in each folder"
   ]
  },
  {
   "cell_type": "code",
   "execution_count": 22,
   "metadata": {
    "collapsed": false
   },
   "outputs": [
    {
     "ename": "IOError",
     "evalue": "[Errno 2] No such file or directory: 'TrueK_amped_by_0.001\\\\TrueK_amped_by_0.001.hyd.bin'",
     "output_type": "error",
     "traceback": [
      "\u001b[1;31m---------------------------------------------------------------------------\u001b[0m",
      "\u001b[1;31mIOError\u001b[0m                                   Traceback (most recent call last)",
      "\u001b[1;32m<ipython-input-22-11aa03d1660c>\u001b[0m in \u001b[0;36m<module>\u001b[1;34m()\u001b[0m\n\u001b[0;32m      4\u001b[0m     \u001b[0mhyd_file\u001b[0m \u001b[1;33m=\u001b[0m \u001b[0mos\u001b[0m\u001b[1;33m.\u001b[0m\u001b[0mpath\u001b[0m\u001b[1;33m.\u001b[0m\u001b[0mjoin\u001b[0m\u001b[1;33m(\u001b[0m\u001b[0mc_ws\u001b[0m\u001b[1;33m,\u001b[0m\u001b[1;34m'{0}.hyd.bin'\u001b[0m\u001b[1;33m.\u001b[0m\u001b[0mformat\u001b[0m\u001b[1;33m(\u001b[0m\u001b[0mc_ws\u001b[0m\u001b[1;33m)\u001b[0m\u001b[1;33m)\u001b[0m\u001b[1;33m\u001b[0m\u001b[0m\n\u001b[0;32m      5\u001b[0m \u001b[1;33m\u001b[0m\u001b[0m\n\u001b[1;32m----> 6\u001b[1;33m     \u001b[0mobs\u001b[0m \u001b[1;33m=\u001b[0m \u001b[0mfp\u001b[0m\u001b[1;33m.\u001b[0m\u001b[0mutils\u001b[0m\u001b[1;33m.\u001b[0m\u001b[0mHydmodObs\u001b[0m\u001b[1;33m(\u001b[0m\u001b[0mhyd_file\u001b[0m\u001b[1;33m)\u001b[0m\u001b[1;33m\u001b[0m\u001b[0m\n\u001b[0m\u001b[0;32m      7\u001b[0m     \u001b[0mallobs\u001b[0m \u001b[1;33m=\u001b[0m \u001b[0mobs\u001b[0m\u001b[1;33m.\u001b[0m\u001b[0mget_dataframe\u001b[0m\u001b[1;33m(\u001b[0m\u001b[0mtotim\u001b[0m\u001b[1;33m=\u001b[0m\u001b[0mobs\u001b[0m\u001b[1;33m.\u001b[0m\u001b[0mget_times\u001b[0m\u001b[1;33m(\u001b[0m\u001b[1;33m)\u001b[0m\u001b[1;33m[\u001b[0m\u001b[1;33m-\u001b[0m\u001b[1;36m1\u001b[0m\u001b[1;33m]\u001b[0m\u001b[1;33m)\u001b[0m\u001b[1;33m.\u001b[0m\u001b[0mT\u001b[0m\u001b[1;33m\u001b[0m\u001b[0m\n\u001b[0;32m      8\u001b[0m     \u001b[1;31m# doing some manipulations to the dataframe we read in from hydmod\u001b[0m\u001b[1;33m\u001b[0m\u001b[1;33m\u001b[0m\u001b[0m\n",
      "\u001b[1;32mC:\\Users\\kniffin\\AppData\\Local\\Continuum\\Anaconda\\lib\\site-packages\\flopy\\utils\\observationfile.pyc\u001b[0m in \u001b[0;36m__init__\u001b[1;34m(self, filename, verbose, hydlbl_len)\u001b[0m\n\u001b[0;32m    274\u001b[0m         \u001b[0mself\u001b[0m\u001b[1;33m.\u001b[0m\u001b[0mverbose\u001b[0m \u001b[1;33m=\u001b[0m \u001b[0mverbose\u001b[0m\u001b[1;33m\u001b[0m\u001b[0m\n\u001b[0;32m    275\u001b[0m         \u001b[1;31m# --open binary head file\u001b[0m\u001b[1;33m\u001b[0m\u001b[1;33m\u001b[0m\u001b[0m\n\u001b[1;32m--> 276\u001b[1;33m         \u001b[0mself\u001b[0m\u001b[1;33m.\u001b[0m\u001b[0mfile\u001b[0m \u001b[1;33m=\u001b[0m \u001b[0mopen\u001b[0m\u001b[1;33m(\u001b[0m\u001b[0mfilename\u001b[0m\u001b[1;33m,\u001b[0m \u001b[1;34m'rb'\u001b[0m\u001b[1;33m)\u001b[0m\u001b[1;33m\u001b[0m\u001b[0m\n\u001b[0m\u001b[0;32m    277\u001b[0m         \u001b[1;31m# NHYDTOT,ITMUNI\u001b[0m\u001b[1;33m\u001b[0m\u001b[1;33m\u001b[0m\u001b[0m\n\u001b[0;32m    278\u001b[0m         \u001b[0mself\u001b[0m\u001b[1;33m.\u001b[0m\u001b[0mnobs\u001b[0m \u001b[1;33m=\u001b[0m \u001b[0mself\u001b[0m\u001b[1;33m.\u001b[0m\u001b[0mread_integer\u001b[0m\u001b[1;33m(\u001b[0m\u001b[1;33m)\u001b[0m\u001b[1;33m\u001b[0m\u001b[0m\n",
      "\u001b[1;31mIOError\u001b[0m: [Errno 2] No such file or directory: 'TrueK_amped_by_0.001\\\\TrueK_amped_by_0.001.hyd.bin'"
     ]
    }
   ],
   "source": [
    "for c_amp in amping_values:\n",
    "    # read in the hydmod data\n",
    "    c_ws = 'TrueK_amped_by_{0}'.format(c_amp)\n",
    "    hyd_file = os.path.join(c_ws,'{0}.hyd.bin'.format(c_ws))\n",
    "    \n",
    "    obs = fp.utils.HydmodObs(hyd_file)\n",
    "    allobs = obs.get_dataframe(totim=obs.get_times()[-1]).T\n",
    "    # doing some manipulations to the dataframe we read in from hydmod\n",
    "    allobs.drop('totim', inplace=True)\n",
    "    allobs['names'] = [i.replace('HDC001','') for i in allobs.index]\n",
    "    allobs.index = allobs.names\n",
    "    allobs.drop('names', axis=1, inplace=True)\n",
    "    allobs.columns = ['obs']\n",
    "    allobs['obs_0.1_std_noise'] = allobs.obs + (np.random.randn(len(allobs))*0.1)\n",
    "    allobs.to_csv(os.path.join(c_ws,'observations.txt'), sep='\\t')\n"
   ]
  },
  {
   "cell_type": "code",
   "execution_count": 15,
   "metadata": {
    "collapsed": false
   },
   "outputs": [
    {
     "data": {
      "text/plain": [
       "'3.2.5'"
      ]
     },
     "execution_count": 15,
     "metadata": {},
     "output_type": "execute_result"
    }
   ],
   "source": [
    "fp.__version__"
   ]
  },
  {
   "cell_type": "code",
   "execution_count": null,
   "metadata": {
    "collapsed": true
   },
   "outputs": [],
   "source": []
  }
 ],
 "metadata": {
  "kernelspec": {
   "display_name": "Python 2",
   "language": "python",
   "name": "python2"
  },
  "language_info": {
   "codemirror_mode": {
    "name": "ipython",
    "version": 2
   },
   "file_extension": ".py",
   "mimetype": "text/x-python",
   "name": "python",
   "nbconvert_exporter": "python",
   "pygments_lexer": "ipython2",
   "version": "2.7.12"
  }
 },
 "nbformat": 4,
 "nbformat_minor": 0
}
